{
 "cells": [
  {
   "cell_type": "markdown",
   "metadata": {},
   "source": [
    "# Decision Theory\n",
    "\n",
    "## What is the Decision Theory?\n",
    "\n",
    "We make a lot of decisions in everyday life. For example, I bought a discount beef stake today. But, was it a good deal? Decision theory provides us with a mathematical framework to analyse those decisions."
   ]
  },
  {
   "cell_type": "markdown",
   "metadata": {},
   "source": [
    "## Decision problem\n",
    "\n",
    "To deal with problems in the mathematical framework, we first define a set of elements.\n",
    "\n",
    "* A **parameter** $\\theta \\in \\Theta$, where $\\Theta$ is the parameter space.\n",
    "* A set of **data** $x \\in X$, where $X$ is the sample space. So the random sample data depend on a **distribution** $f(x|\\theta)$\n",
    "* An **action** $a \\in A$, where $A$ is the action space, e.g., buy or not.\n",
    "* A **loss function** $L : \\Theta \\times A \\mapsto \\mathbb{R}$, such that $L(\\theta,a)$ describes the loss under the chooses action with a true parameter.\n"
   ]
  },
  {
   "cell_type": "markdown",
   "metadata": {},
   "source": [
    "## Decision rule\n",
    "\n",
    "Decision rule is a way to formulise our decision and a possible loss from the decision.\n",
    "\n",
    "For example, I will buy a travel insurance if the latest 100 fight cancel rate is over 10%. Then, the decision rule is denoted by the following where $x$ is the proportion of times a flight was cancelled and action space $A={0,1}$ with 1 representing \"buy travel insurance\" and 0 being \"don't buy travel insurance\".\n",
    "\n",
    "$$\n",
    "d(x)=\n",
    "\\begin{cases}\n",
    "  1 \\ \\  \\text{if} \\ x\\geq0.10 \\\\\n",
    "  0 \\ \\  \\text{if} \\ x<0.10\n",
    "\\end{cases}\n",
    "$$\n",
    "\n",
    "We can define a possible loss derived from the decision. Assume, I've booked £500, the insurance costs £50, and the payoff is £1000 if the flight is canceled. $y$ indicates whether the flight is canceled or not. For example, if I buy the insurance and the flight is canceled, then the loss is $500 + 50 - 1000 = 500$. The every pattern is the below.\n",
    "\n",
    "$$\n",
    "l(y,a=0)=\n",
    "\\begin{cases}\n",
    "  0 \\ \\  \\text{if} \\ y=0 \\\\\n",
    "  500 \\ \\  \\text{if} \\ y=1\n",
    "\\end{cases}\n",
    "$$\n",
    "\n",
    "$$\n",
    "l(y,a=1)=\n",
    "\\begin{cases}\n",
    "  50 \\ \\  \\text{if} \\ y=0 \\\\\n",
    "  -450 \\ \\  \\text{if} \\ y=1\n",
    "\\end{cases}\n",
    "$$\n",
    "\n",
    "Since the true parameter in the loss function is $\\theta$, we can convert it as a function under the action with a true parameter.\n",
    "\n",
    "$$\n",
    "\\begin{align}\n",
    "L(\\theta,a=0) &= El(y,a=0) = 0 \\times \\mathbb{P}(y=0) + 500 \\times \\mathbb{P}(y=1) = 0 \\times (1-\\theta) + 500 \\times \\theta = 500\\theta \\\\\n",
    "L(\\theta,a=1) &= El(y,a=1) = 50 \\times \\mathbb{P}(y=0) - 450 \\times \\mathbb{P}(y=1) = 50 \\times (1-\\theta) - 450 \\times \\theta = 50 - 500\\theta\n",
    "\\end{align}\n",
    "$$\n",
    "\n",
    "This can be combined as\n",
    "\n",
    "$$\n",
    "L(\\theta,a)=\n",
    "\\begin{cases}\n",
    "  500\\theta \\ \\  \\text{if} \\ a=0 \\\\\n",
    "  50-500\\theta \\ \\  \\text{if} \\ a=1\n",
    "\\end{cases}\n",
    "$$\n",
    "\n"
   ]
  },
  {
   "cell_type": "code",
   "execution_count": null,
   "metadata": {},
   "outputs": [],
   "source": []
  }
 ],
 "metadata": {
  "kernelspec": {
   "display_name": "Python 3",
   "language": "python",
   "name": "python3"
  },
  "language_info": {
   "codemirror_mode": {
    "name": "ipython",
    "version": 3
   },
   "file_extension": ".py",
   "mimetype": "text/x-python",
   "name": "python",
   "nbconvert_exporter": "python",
   "pygments_lexer": "ipython3",
   "version": "3.8.3"
  }
 },
 "nbformat": 4,
 "nbformat_minor": 4
}
