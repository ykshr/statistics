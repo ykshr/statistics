{
 "cells": [
  {
   "cell_type": "markdown",
   "metadata": {},
   "source": [
    "# Binomial distribution\n",
    "\n",
    "## What is binomial distribution?\n",
    "\n",
    "A binomial distribution is a type of discrete probability distribution that describes the probobility of a Bernoulli trial. The Bernoulli trial is an event that outcomes are only two types: head/tail, true/false, success/failure, 0/1 and so on."
   ]
  },
  {
   "cell_type": "markdown",
   "metadata": {},
   "source": [
    "## Bernoulli trial\n",
    "\n",
    "The bernoulli trial in which the success probability with $p$ and the failure probability with $1-p$ is defined by the following.\n",
    "\n",
    "$$\n",
    "f(k) = p^k(1-p)^{1-k} \\ where \\ k={0,1}\n",
    "$$\n",
    "\n",
    "This is intuitive.\n",
    "\n",
    "The probability of the event not occurring ($k=0$) is...\n",
    "\n",
    "$$\n",
    "f(0) = p^0(1-p)^{1-0} = (1-p)\n",
    "$$\n",
    "\n",
    "Then, the probability of the event occurring ($k=1$) is...\n",
    "\n",
    "$$\n",
    "f(1) = p^1(1-p)^{1-1} = p\n",
    "$$\n"
   ]
  },
  {
   "cell_type": "markdown",
   "metadata": {},
   "source": [
    "## Binomial distribution\n",
    "\n",
    "The binomial distribution is a set of $n$ bernoulli trials. Suppose we get $k$ successes and $n-k$ failures with the sucess probability $p$, then\n",
    "\n",
    "$$\n",
    "\\begin{align}\n",
    "Sucesses \\ probability &: p \\ \\times \\ p \\ \\times \\ ... \\ \\times \\ p = p^k \\\\\n",
    "Failures \\ probability &: (1-p) \\ \\times \\ (1-p) \\ \\times \\ ... \\ \\times \\ (1-p) = (1-p)^{n-k}\n",
    "\\end{align}\n",
    "$$\n",
    "\n",
    "The sucess/failure trials can occur anywhere among the $n$ trials. Since the combination of the trials is $\\begin{pmatrix} n \\\\ k \\end{pmatrix}$. The binomial distribution is defined by the following.\n",
    "\n",
    "$$\n",
    "f(n,k,p) = \\begin{pmatrix} n \\\\ k \\end{pmatrix} p^k (1-p)^{n-k}\n",
    "$$"
   ]
  },
  {
   "cell_type": "code",
   "execution_count": 1,
   "metadata": {},
   "outputs": [
    {
     "data": {
      "image/png": "[encoded data removed]",
      "text/plain": [
       "<Figure size 432x288 with 1 Axes>"
      ]
     },
     "metadata": {
      "needs_background": "light"
     },
     "output_type": "display_data"
    }
   ],
   "source": [
    "import matplotlib.pyplot as plt\n",
    "import math\n",
    "import numpy as np\n",
    "\n",
    "p = 0.5\n",
    "n = 20\n",
    "x = np.arange(0, n)\n",
    "f = [math.factorial(n) / (math.factorial(k) * math.factorial(n - k)) * p**k * (1 - p)**(n - k) for k in x]\n",
    "\n",
    "plt.scatter(x, f)\n",
    "plt.show()"
   ]
  },
  {
   "cell_type": "markdown",
   "metadata": {},
   "source": [
    "Of course, when the probability is 50%, the possible case is 10 successes."
   ]
  },
  {
   "cell_type": "markdown",
   "metadata": {},
   "source": [
    "## Intuitive understanding\n",
    "\n",
    "As the following figure shows, the probability defines the possible success number."
   ]
  },
  {
   "cell_type": "code",
   "execution_count": 2,
   "metadata": {},
   "outputs": [
    {
     "data": {
      "image/png": "[encoded data removed]",
      "text/plain": [
       "<Figure size 432x288 with 1 Axes>"
      ]
     },
     "metadata": {
      "needs_background": "light"
     },
     "output_type": "display_data"
    }
   ],
   "source": [
    "import matplotlib.pyplot as plt\n",
    "import math\n",
    "import numpy as np\n",
    "\n",
    "ps = [0.25, 0.5, 0.75]\n",
    "for p in ps:\n",
    "    n = 20\n",
    "    x = np.arange(0, n)\n",
    "    f = [math.factorial(n) / (math.factorial(k) * math.factorial(n - k)) * p**k * (1 - p)**(n - k) for k in x]\n",
    "\n",
    "    plt.scatter(x, f, label='p = '+str(p))\n",
    "\n",
    "plt.legend()\n",
    "plt.show()"
   ]
  },
  {
   "cell_type": "markdown",
   "metadata": {},
   "source": [
    "# Negative binomial distribution\n",
    "\n",
    "## What is negative binomial distribution?\n",
    "\n",
    "A negative binomial distribution is also a type of discrete probability distribution that describes the probobility of a Bernoulli trial, but it describes a specified number of successes/failures.\n",
    "\n",
    "To describe the probability of $k$ successes, we can say that we've already have $k-1$ successes in $n-1$ trials and get success at the $n$ trial, so\n",
    "\n",
    "$$\n",
    "\\begin{align}\n",
    "f(n,k,p) &= \\begin{pmatrix} n-1 \\\\ k-1 \\end{pmatrix} p^{k-1} (1-p)^{n-k} \\times p \\\\\n",
    "&= \\begin{pmatrix} n-1 \\\\ k-1 \\end{pmatrix} p^{k} (1-p)^{n-k}\n",
    "\\end{align}\n",
    "$$\n",
    "\n",
    "For example, the probability of 3 successes in the success probability with $50%$ is the following."
   ]
  },
  {
   "cell_type": "code",
   "execution_count": 3,
   "metadata": {},
   "outputs": [
    {
     "data": {
      "image/png": "[encoded data removed]",
      "text/plain": [
       "<Figure size 432x288 with 1 Axes>"
      ]
     },
     "metadata": {
      "needs_background": "light"
     },
     "output_type": "display_data"
    }
   ],
   "source": [
    "import matplotlib.pyplot as plt\n",
    "import math\n",
    "import numpy as np\n",
    "\n",
    "p = 0.5\n",
    "k = 3\n",
    "x = np.arange(3, n)\n",
    "f = [math.factorial(n-1) / (math.factorial(k-1) * math.factorial(n - k)) * p**k * (1 - p)**(n - k) for n in x]\n",
    "\n",
    "plt.scatter(x, f)\n",
    "plt.show()"
   ]
  },
  {
   "cell_type": "markdown",
   "metadata": {},
   "source": [
    "# Relationship between Binomial distribution and Negative binomial distribution\n",
    "\n",
    "- The Binomial distribution fix the number of trials and describes the probability of the success count.\n",
    "- The Negative binomial distribution fix the success count and describes the probability of the number of trials."
   ]
  }
 ],
 "metadata": {
  "kernelspec": {
   "display_name": "Python 3",
   "language": "python",
   "name": "python3"
  },
  "language_info": {
   "codemirror_mode": {
    "name": "ipython",
    "version": 3
   },
   "file_extension": ".py",
   "mimetype": "text/x-python",
   "name": "python",
   "nbconvert_exporter": "python",
   "pygments_lexer": "ipython3",
   "version": "3.8.3"
  }
 },
 "nbformat": 4,
 "nbformat_minor": 4
}
